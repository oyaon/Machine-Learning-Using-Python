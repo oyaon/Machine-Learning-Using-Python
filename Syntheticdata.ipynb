{
  "nbformat": 4,
  "nbformat_minor": 0,
  "metadata": {
    "colab": {
      "provenance": [],
      "authorship_tag": "ABX9TyPK4S9Ly+XtFGQf3MZmRimU",
      "include_colab_link": true
    },
    "kernelspec": {
      "name": "python3",
      "display_name": "Python 3"
    },
    "language_info": {
      "name": "python"
    }
  },
  "cells": [
    {
      "cell_type": "markdown",
      "metadata": {
        "id": "view-in-github",
        "colab_type": "text"
      },
      "source": [
        "<a href=\"https://colab.research.google.com/github/oyaon/Machine-Learning-Using-Python/blob/main/Syntheticdata.ipynb\" target=\"_parent\"><img src=\"https://colab.research.google.com/assets/colab-badge.svg\" alt=\"Open In Colab\"/></a>"
      ]
    },
    {
      "cell_type": "code",
      "execution_count": 1,
      "metadata": {
        "colab": {
          "base_uri": "https://localhost:8080/"
        },
        "id": "8MfYxUKi-3Qa",
        "outputId": "d25ba282-c464-43f3-c145-35f7add71d5f"
      },
      "outputs": [
        {
          "output_type": "stream",
          "name": "stdout",
          "text": [
            "CSV file 'dhaka_humidity_2024.csv' created successfully!\n"
          ]
        }
      ],
      "source": [
        "import pandas as pd\n",
        "import numpy as np\n",
        "from datetime import datetime, timedelta\n",
        "\n",
        "# Parameters for synthetic data\n",
        "start_date = datetime(2024, 1, 1)\n",
        "end_date = datetime(2024, 12, 31)\n",
        "days = (end_date - start_date).days + 1\n",
        "\n",
        "# Generate humidity data\n",
        "np.random.seed(42)  # For reproducibility\n",
        "base_humidity = np.sin(np.linspace(0, 2 * np.pi, days)) * 10 + 75  # Seasonal trend\n",
        "noise = np.random.normal(0, 5, days)  # Random noise\n",
        "humidity = np.clip(base_humidity + noise, 50, 95)  # Ensure values stay within 50-95%\n",
        "\n",
        "# Create DataFrame\n",
        "dates = pd.date_range(start_date, end_date)\n",
        "df = pd.DataFrame({\"Date\": dates, \"Average Humidity (%)\": humidity.round(1)})\n",
        "\n",
        "# Save to CSV\n",
        "df.to_csv(\"dhaka_humidity_2024.csv\", index=False)\n",
        "\n",
        "print(\"CSV file 'dhaka_humidity_2024.csv' created successfully!\")"
      ]
    }
  ]
}