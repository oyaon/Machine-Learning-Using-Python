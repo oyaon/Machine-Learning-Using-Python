{
  "cells": [
    {
      "cell_type": "markdown",
      "metadata": {
        "id": "view-in-github",
        "colab_type": "text"
      },
      "source": [
        "<a href=\"https://colab.research.google.com/github/oyaon/Machine-Learning-Using-Python/blob/main/Rain_Fall_2015_2023andPredictFor2024.ipynb\" target=\"_parent\"><img src=\"https://colab.research.google.com/assets/colab-badge.svg\" alt=\"Open In Colab\"/></a>"
      ]
    },
    {
      "cell_type": "code",
      "source": [
        "import pandas as pd\n",
        "import requests\n",
        "\n",
        "# Fetch historical data for 2015–2023\n",
        "url = \"https://archive-api.open-meteo.com/v1/archive\"\n",
        "params = {\n",
        "    \"latitude\": 23.7104,\n",
        "    \"longitude\": 90.4074,\n",
        "    \"start_date\": \"2015-01-01\",\n",
        "    \"end_date\": \"2023-12-31\",\n",
        "    \"daily\": \"rain_sum\",\n",
        "    \"timezone\": \"Asia/Dhaka\"\n",
        "}\n",
        "response = requests.get(url, params=params)\n",
        "data = response.json()\n",
        "\n",
        "# Convert to DataFrame\n",
        "df = pd.DataFrame({\n",
        "    \"Date\": data[\"daily\"][\"time\"],\n",
        "    \"Rainfall (mm)\": data[\"daily\"][\"rain_sum\"]\n",
        "})"
      ],
      "metadata": {
        "id": "rk_rO5O9ugyN"
      },
      "execution_count": 1,
      "outputs": []
    },
    {
      "cell_type": "code",
      "source": [
        "import pandas as pd\n",
        "\n",
        "# Create date range\n",
        "date_range = pd.date_range(start=\"2015-01-01\", end=\"2024-12-31\", freq=\"D\")\n",
        "\n",
        "# Create empty DataFrame with dates\n",
        "df = pd.DataFrame({\"Date\": date_range})\n",
        "\n",
        "# Add placeholder rainfall (random values between 0 and 50 mm)\n",
        "import numpy as np\n",
        "np.random.seed(42)  # For reproducibility\n",
        "df[\"Rainfall (mm)\"] = np.random.uniform(0, 50, len(df)).round(1)\n",
        "\n",
        "# Add source and notes columns\n",
        "df[\"Source\"] = \"Placeholder\"\n",
        "df[\"Notes\"] = \"\"\n",
        "\n",
        "# Save to CSV\n",
        "df.to_csv(\"dhaka_rainfall_2015_2024_placeholder.csv\", index=False)"
      ],
      "metadata": {
        "id": "WASRgVySu2JD"
      },
      "execution_count": 2,
      "outputs": []
    },
    {
      "cell_type": "code",
      "source": [],
      "metadata": {
        "id": "ztgV-hsCwJs0"
      },
      "execution_count": 2,
      "outputs": []
    },
    {
      "cell_type": "code",
      "source": [],
      "metadata": {
        "id": "prX6-2_YwOIM"
      },
      "execution_count": 2,
      "outputs": []
    },
    {
      "cell_type": "code",
      "source": [
        "print(df.head())"
      ],
      "metadata": {
        "id": "USXRY8V6u4iK",
        "outputId": "e23201ff-ab12-4afb-b047-1d09565f77b4",
        "colab": {
          "base_uri": "https://localhost:8080/"
        }
      },
      "execution_count": 3,
      "outputs": [
        {
          "output_type": "stream",
          "name": "stdout",
          "text": [
            "        Date  Rainfall (mm)       Source Notes\n",
            "0 2015-01-01           18.7  Placeholder      \n",
            "1 2015-01-02           47.5  Placeholder      \n",
            "2 2015-01-03           36.6  Placeholder      \n",
            "3 2015-01-04           29.9  Placeholder      \n",
            "4 2015-01-05            7.8  Placeholder      \n"
          ]
        }
      ]
    },
    {
      "cell_type": "code",
      "source": [
        "import pandas as pd\n",
        "import requests\n",
        "\n",
        "# Fetch historical rainfall data for Dhaka (2015–2023)\n",
        "url = \"https://archive-api.open-meteo.com/v1/archive\"\n",
        "params = {\n",
        "    \"latitude\": 23.7104,\n",
        "    \"longitude\": 90.4074,\n",
        "    \"start_date\": \"2015-01-01\",\n",
        "    \"end_date\": \"2023-12-31\",\n",
        "    \"daily\": \"rain_sum\",\n",
        "    \"timezone\": \"Asia/Dhaka\"\n",
        "}\n",
        "\n",
        "response = requests.get(url, params=params)\n",
        "data = response.json()\n",
        "\n",
        "# Convert to DataFrame\n",
        "df_historical = pd.DataFrame({\n",
        "    \"Date\": data[\"daily\"][\"time\"],\n",
        "    \"Rainfall (mm)\": data[\"daily\"][\"rain_sum\"]\n",
        "})\n",
        "\n",
        "print(df_historical.head())"
      ],
      "metadata": {
        "id": "uVRnWCM5vfWg",
        "outputId": "9cf8bc1b-56c9-4149-d24d-e0321f4012be",
        "colab": {
          "base_uri": "https://localhost:8080/"
        }
      },
      "execution_count": 4,
      "outputs": [
        {
          "output_type": "stream",
          "name": "stdout",
          "text": [
            "         Date  Rainfall (mm)\n",
            "0  2015-01-01            1.6\n",
            "1  2015-01-02            1.4\n",
            "2  2015-01-03            0.0\n",
            "3  2015-01-04            1.3\n",
            "4  2015-01-05            0.0\n"
          ]
        }
      ]
    },
    {
      "cell_type": "code",
      "source": [
        "# Generate dates for 2024\n",
        "dates_2024 = pd.date_range(start=\"2024-01-01\", end=\"2024-12-31\", freq=\"D\")\n",
        "\n",
        "# Create synthetic rainfall (replace with real data later)\n",
        "np.random.seed(123)\n",
        "rain_2024 = np.random.uniform(0, 40, len(dates_2024)).round(1)  # Simulate lighter rain\n",
        "\n",
        "df_2024 = pd.DataFrame({\n",
        "    \"Date\": dates_2024.strftime(\"%Y-%m-%d\"),\n",
        "    \"Rainfall (mm)\": rain_2024\n",
        "})"
      ],
      "metadata": {
        "id": "raQbQtj7vp8D"
      },
      "execution_count": 5,
      "outputs": []
    },
    {
      "cell_type": "code",
      "source": [
        "# Combine datasets\n",
        "df_full = pd.concat([df_historical, df_2024], ignore_index=True)\n",
        "\n",
        "# Add source/notes columns\n",
        "df_full[\"Source\"] = \"Open-Meteo (2015–2023) + Synthetic (2024)\"\n",
        "df_full[\"Notes\"] = \"2024 data is simulated for placeholder purposes\"\n",
        "\n",
        "# Save to CSV\n",
        "df_full.to_csv(\"dhaka_rainfall_2015_2024.csv\", index=False)"
      ],
      "metadata": {
        "id": "9WXTb3H5vr5u"
      },
      "execution_count": 6,
      "outputs": []
    },
    {
      "cell_type": "code",
      "source": [
        "import matplotlib.pyplot as plt\n",
        "\n",
        "df_full[\"Date\"] = pd.to_datetime(df_full[\"Date\"])\n",
        "df_full.set_index(\"Date\", inplace=True)\n",
        "\n",
        "# Plot annual rainfall\n",
        "df_full[\"Rainfall (mm)\"].resample(\"Y\").sum().plot(kind=\"bar\")\n",
        "plt.title(\"Annual Rainfall in Dhaka (2015–2024)\")\n",
        "plt.ylabel(\"Total Rainfall (mm)\")\n",
        "plt.show()"
      ],
      "metadata": {
        "id": "y--m3uzXvxdM",
        "outputId": "d1af050e-8676-4bea-f58c-c4b4980adf7d",
        "colab": {
          "base_uri": "https://localhost:8080/",
          "height": 639
        }
      },
      "execution_count": 7,
      "outputs": [
        {
          "output_type": "stream",
          "name": "stderr",
          "text": [
            "<ipython-input-7-2ba7506a454a>:7: FutureWarning: 'Y' is deprecated and will be removed in a future version, please use 'YE' instead.\n",
            "  df_full[\"Rainfall (mm)\"].resample(\"Y\").sum().plot(kind=\"bar\")\n"
          ]
        },
        {
          "output_type": "display_data",
          "data": {
            "text/plain": [
              "<Figure size 640x480 with 1 Axes>"
            ],
            "image/png": "[encoded data removed]"
          },
          "metadata": {}
        }
      ]
    },
    {
      "cell_type": "code",
      "source": [
        "import pandas as pd\n",
        "import requests\n",
        "import numpy as np\n",
        "\n",
        "# Fetch historical data (2015–2023)\n",
        "url_historical = \"https://archive-api.open-meteo.com/v1/archive\"\n",
        "params_historical = {\n",
        "    \"latitude\": 23.7104,\n",
        "    \"longitude\": 90.4074,\n",
        "    \"start_date\": \"2015-01-01\",\n",
        "    \"end_date\": \"2023-12-31\",\n",
        "    \"daily\": \"rain_sum\",\n",
        "    \"timezone\": \"Asia/Dhaka\"\n",
        "}\n",
        "response = requests.get(url_historical, params=params_historical)\n",
        "data_historical = response.json()\n",
        "\n",
        "# Historical DataFrame\n",
        "df_historical = pd.DataFrame({\n",
        "    \"Date\": data_historical[\"daily\"][\"time\"],\n",
        "    \"Rainfall (mm)\": data_historical[\"daily\"][\"rain_sum\"]\n",
        "})\n",
        "\n",
        "# Generate synthetic 2024 data (replace later with real data)\n",
        "dates_2024 = pd.date_range(start=\"2024-01-01\", end=\"2024-12-31\", freq=\"D\")\n",
        "np.random.seed(123)\n",
        "rain_2024 = np.random.uniform(0, 40, len(dates_2024)).round(1)\n",
        "df_2024 = pd.DataFrame({\n",
        "    \"Date\": dates_2024.strftime(\"%Y-%m-%d\"),\n",
        "    \"Rainfall (mm)\": rain_2024\n",
        "})\n",
        "\n",
        "# Combine datasets\n",
        "df_full = pd.concat([df_historical, df_2024], ignore_index=True)\n",
        "df_full[\"Source\"] = \"Open-Meteo (2015–2023) + Synthetic (2024)\"\n",
        "df_full[\"Notes\"] = \"2024 data is simulated for testing\"\n",
        "\n",
        "# Save to CSV\n",
        "df_full.to_csv(\"dhaka_rainfall_2015_2024.csv\", index=False)\n",
        "print(\"Dataset saved as 'dhaka_rainfall_2015_2024.csv'!\")"
      ],
      "metadata": {
        "id": "8YaKMeNAwQbO",
        "outputId": "befa7fcc-2b92-4ccb-e487-9fa2a2bc0630",
        "colab": {
          "base_uri": "https://localhost:8080/"
        }
      },
      "execution_count": 8,
      "outputs": [
        {
          "output_type": "stream",
          "name": "stdout",
          "text": [
            "Dataset saved as 'dhaka_rainfall_2015_2024.csv'!\n"
          ]
        }
      ]
    }
  ],
  "metadata": {
    "colab": {
      "provenance": [],
      "include_colab_link": true
    },
    "kernelspec": {
      "display_name": "Python 3",
      "name": "python3"
    }
  },
  "nbformat": 4,
  "nbformat_minor": 0
}